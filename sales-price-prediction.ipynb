{
 "cells": [
  {
   "cell_type": "code",
   "execution_count": 1,
   "metadata": {},
   "outputs": [],
   "source": [
    "#Importing the libraries\n",
    "import numpy as np\n",
    "import pandas as pd\n",
    "import matplotlib.pyplot as plt\n",
    "import seaborn as sns"
   ]
  },
  {
   "cell_type": "code",
   "execution_count": 2,
   "metadata": {},
   "outputs": [
    {
     "data": {
      "text/html": [
       "<div>\n",
       "<style scoped>\n",
       "    .dataframe tbody tr th:only-of-type {\n",
       "        vertical-align: middle;\n",
       "    }\n",
       "\n",
       "    .dataframe tbody tr th {\n",
       "        vertical-align: top;\n",
       "    }\n",
       "\n",
       "    .dataframe thead th {\n",
       "        text-align: right;\n",
       "    }\n",
       "</style>\n",
       "<table border=\"1\" class=\"dataframe\">\n",
       "  <thead>\n",
       "    <tr style=\"text-align: right;\">\n",
       "      <th></th>\n",
       "      <th>TV</th>\n",
       "      <th>radio</th>\n",
       "      <th>newspaper</th>\n",
       "      <th>sales</th>\n",
       "    </tr>\n",
       "  </thead>\n",
       "  <tbody>\n",
       "    <tr>\n",
       "      <th>0</th>\n",
       "      <td>230.1</td>\n",
       "      <td>37.8</td>\n",
       "      <td>69.2</td>\n",
       "      <td>2210</td>\n",
       "    </tr>\n",
       "    <tr>\n",
       "      <th>1</th>\n",
       "      <td>44.5</td>\n",
       "      <td>39.3</td>\n",
       "      <td>45.1</td>\n",
       "      <td>1040</td>\n",
       "    </tr>\n",
       "    <tr>\n",
       "      <th>2</th>\n",
       "      <td>17.2</td>\n",
       "      <td>45.9</td>\n",
       "      <td>69.3</td>\n",
       "      <td>930</td>\n",
       "    </tr>\n",
       "    <tr>\n",
       "      <th>3</th>\n",
       "      <td>151.5</td>\n",
       "      <td>41.3</td>\n",
       "      <td>58.5</td>\n",
       "      <td>1850</td>\n",
       "    </tr>\n",
       "    <tr>\n",
       "      <th>4</th>\n",
       "      <td>180.8</td>\n",
       "      <td>10.8</td>\n",
       "      <td>58.4</td>\n",
       "      <td>1290</td>\n",
       "    </tr>\n",
       "  </tbody>\n",
       "</table>\n",
       "</div>"
      ],
      "text/plain": [
       "      TV  radio  newspaper  sales\n",
       "0  230.1   37.8       69.2   2210\n",
       "1   44.5   39.3       45.1   1040\n",
       "2   17.2   45.9       69.3    930\n",
       "3  151.5   41.3       58.5   1850\n",
       "4  180.8   10.8       58.4   1290"
      ]
     },
     "execution_count": 2,
     "metadata": {},
     "output_type": "execute_result"
    }
   ],
   "source": [
    "#Importing the dataset\n",
    "data = pd.read_csv(\"/home/rjoker/DS&ML/Notes/Data/Advertising_data.csv\")\n",
    "data.head()"
   ]
  },
  {
   "cell_type": "markdown",
   "metadata": {},
   "source": [
    "# Simple Linear Regression"
   ]
  },
  {
   "cell_type": "markdown",
   "metadata": {},
   "source": [
    "Here we will estimate the sales withh respect to the advertisement on Television. "
   ]
  },
  {
   "cell_type": "code",
   "execution_count": 3,
   "metadata": {},
   "outputs": [],
   "source": [
    "#Initializing the variables\n",
    "X = data['TV'].values.reshape(-1,1)\n",
    "y = data['sales'].values.reshape(-1,1)"
   ]
  },
  {
   "cell_type": "code",
   "execution_count": 4,
   "metadata": {},
   "outputs": [
    {
     "data": {
      "text/plain": [
       "array([[230.1],\n",
       "       [ 44.5],\n",
       "       [ 17.2],\n",
       "       [151.5],\n",
       "       [180.8],\n",
       "       [  8.7],\n",
       "       [ 57.5],\n",
       "       [120.2],\n",
       "       [  8.6],\n",
       "       [199.8],\n",
       "       [ 66.1],\n",
       "       [214.7],\n",
       "       [ 23.8],\n",
       "       [ 97.5],\n",
       "       [204.1],\n",
       "       [195.4],\n",
       "       [ 67.8],\n",
       "       [281.4],\n",
       "       [ 69.2],\n",
       "       [147.3],\n",
       "       [218.4],\n",
       "       [237.4],\n",
       "       [ 13.2],\n",
       "       [228.3],\n",
       "       [ 62.3],\n",
       "       [262.9],\n",
       "       [142.9],\n",
       "       [240.1],\n",
       "       [248.8],\n",
       "       [ 70.6],\n",
       "       [292.9],\n",
       "       [112.9],\n",
       "       [ 97.2],\n",
       "       [265.6],\n",
       "       [ 95.7],\n",
       "       [290.7],\n",
       "       [266.9],\n",
       "       [ 74.7],\n",
       "       [ 43.1],\n",
       "       [228. ],\n",
       "       [202.5],\n",
       "       [177. ],\n",
       "       [293.6],\n",
       "       [206.9],\n",
       "       [ 25.1],\n",
       "       [175.1],\n",
       "       [ 89.7],\n",
       "       [239.9],\n",
       "       [227.2],\n",
       "       [ 66.9],\n",
       "       [199.8],\n",
       "       [100.4],\n",
       "       [216.4],\n",
       "       [182.6],\n",
       "       [262.7],\n",
       "       [198.9],\n",
       "       [  7.3],\n",
       "       [136.2],\n",
       "       [210.8],\n",
       "       [210.7],\n",
       "       [ 53.5],\n",
       "       [261.3],\n",
       "       [239.3],\n",
       "       [102.7],\n",
       "       [131.1],\n",
       "       [ 69. ],\n",
       "       [ 31.5],\n",
       "       [139.3],\n",
       "       [237.4],\n",
       "       [216.8],\n",
       "       [199.1],\n",
       "       [109.8],\n",
       "       [ 26.8],\n",
       "       [129.4],\n",
       "       [213.4],\n",
       "       [ 16.9],\n",
       "       [ 27.5],\n",
       "       [120.5],\n",
       "       [  5.4],\n",
       "       [116. ],\n",
       "       [ 76.4],\n",
       "       [239.8],\n",
       "       [ 75.3],\n",
       "       [ 68.4],\n",
       "       [213.5],\n",
       "       [193.2],\n",
       "       [ 76.3],\n",
       "       [110.7],\n",
       "       [ 88.3],\n",
       "       [109.8],\n",
       "       [134.3],\n",
       "       [ 28.6],\n",
       "       [217.7],\n",
       "       [250.9],\n",
       "       [107.4],\n",
       "       [163.3],\n",
       "       [197.6],\n",
       "       [184.9],\n",
       "       [289.7],\n",
       "       [135.2],\n",
       "       [222.4],\n",
       "       [296.4],\n",
       "       [280.2],\n",
       "       [187.9],\n",
       "       [238.2],\n",
       "       [137.9],\n",
       "       [ 25. ],\n",
       "       [ 90.4],\n",
       "       [ 13.1],\n",
       "       [255.4],\n",
       "       [225.8],\n",
       "       [241.7],\n",
       "       [175.7],\n",
       "       [209.6],\n",
       "       [ 78.2],\n",
       "       [ 75.1],\n",
       "       [139.2],\n",
       "       [ 76.4],\n",
       "       [125.7],\n",
       "       [ 19.4],\n",
       "       [141.3],\n",
       "       [ 18.8],\n",
       "       [224. ],\n",
       "       [123.1],\n",
       "       [229.5],\n",
       "       [ 87.2],\n",
       "       [  7.8],\n",
       "       [ 80.2],\n",
       "       [220.3],\n",
       "       [ 59.6],\n",
       "       [  0.7],\n",
       "       [265.2],\n",
       "       [  8.4],\n",
       "       [219.8],\n",
       "       [ 36.9],\n",
       "       [ 48.3],\n",
       "       [ 25.6],\n",
       "       [273.7],\n",
       "       [ 43. ],\n",
       "       [184.9],\n",
       "       [ 73.4],\n",
       "       [193.7],\n",
       "       [220.5],\n",
       "       [104.6],\n",
       "       [ 96.2],\n",
       "       [140.3],\n",
       "       [240.1],\n",
       "       [243.2],\n",
       "       [ 38. ],\n",
       "       [ 44.7],\n",
       "       [280.7],\n",
       "       [121. ],\n",
       "       [197.6],\n",
       "       [171.3],\n",
       "       [187.8],\n",
       "       [  4.1],\n",
       "       [ 93.9],\n",
       "       [149.8],\n",
       "       [ 11.7],\n",
       "       [131.7],\n",
       "       [172.5],\n",
       "       [ 85.7],\n",
       "       [188.4],\n",
       "       [163.5],\n",
       "       [117.2],\n",
       "       [234.5],\n",
       "       [ 17.9],\n",
       "       [206.8],\n",
       "       [215.4],\n",
       "       [284.3],\n",
       "       [ 50. ],\n",
       "       [164.5],\n",
       "       [ 19.6],\n",
       "       [168.4],\n",
       "       [222.4],\n",
       "       [276.9],\n",
       "       [248.4],\n",
       "       [170.2],\n",
       "       [276.7],\n",
       "       [165.6],\n",
       "       [156.6],\n",
       "       [218.5],\n",
       "       [ 56.2],\n",
       "       [287.6],\n",
       "       [253.8],\n",
       "       [205. ],\n",
       "       [139.5],\n",
       "       [191.1],\n",
       "       [286. ],\n",
       "       [ 18.7],\n",
       "       [ 39.5],\n",
       "       [ 75.5],\n",
       "       [ 17.2],\n",
       "       [166.8],\n",
       "       [149.7],\n",
       "       [ 38.2],\n",
       "       [ 94.2],\n",
       "       [177. ],\n",
       "       [283.6],\n",
       "       [232.1]])"
      ]
     },
     "execution_count": 4,
     "metadata": {},
     "output_type": "execute_result"
    }
   ],
   "source": [
    "X"
   ]
  },
  {
   "cell_type": "code",
   "execution_count": 5,
   "metadata": {},
   "outputs": [
    {
     "data": {
      "image/png": "[encoded data removed]",
      "text/plain": [
       "<Figure size 1152x576 with 1 Axes>"
      ]
     },
     "metadata": {
      "needs_background": "light"
     },
     "output_type": "display_data"
    }
   ],
   "source": [
    "#Ploting a graph to see the points\n",
    "plt.figure(figsize=(16, 8))\n",
    "plt.scatter(X, y, c='green')\n",
    "plt.xlabel(\"Money spent on TV ads ($)\")\n",
    "plt.ylabel(\"Sales ($)\")\n",
    "plt.show()"
   ]
  },
  {
   "cell_type": "code",
   "execution_count": 6,
   "metadata": {},
   "outputs": [],
   "source": [
    "#Splitting our dataset to Training and Testing dataset\n",
    "from sklearn.model_selection import train_test_split\n",
    "X_train, X_test, y_train, y_test = train_test_split(X, y, test_size=0.2, random_state=42)"
   ]
  },
  {
   "cell_type": "code",
   "execution_count": 7,
   "metadata": {},
   "outputs": [
    {
     "data": {
      "text/plain": [
       "array([[163.3],\n",
       "       [195.4],\n",
       "       [292.9],\n",
       "       [ 11.7],\n",
       "       [220.3],\n",
       "       [ 75.1],\n",
       "       [216.8],\n",
       "       [ 50. ],\n",
       "       [222.4],\n",
       "       [175.1],\n",
       "       [ 31.5],\n",
       "       [ 56.2],\n",
       "       [234.5],\n",
       "       [  5.4],\n",
       "       [139.5],\n",
       "       [170.2],\n",
       "       [  7.3],\n",
       "       [197.6],\n",
       "       [ 75.3],\n",
       "       [237.4],\n",
       "       [229.5],\n",
       "       [ 67.8],\n",
       "       [ 38. ],\n",
       "       [250.9],\n",
       "       [ 69. ],\n",
       "       [ 53.5],\n",
       "       [213.5],\n",
       "       [139.3],\n",
       "       [ 87.2],\n",
       "       [  8.4],\n",
       "       [199.8],\n",
       "       [ 69.2],\n",
       "       [198.9],\n",
       "       [ 16.9],\n",
       "       [280.7],\n",
       "       [238.2],\n",
       "       [ 48.3],\n",
       "       [273.7],\n",
       "       [117.2],\n",
       "       [ 27.5]])"
      ]
     },
     "execution_count": 7,
     "metadata": {},
     "output_type": "execute_result"
    }
   ],
   "source": [
    "X_test"
   ]
  },
  {
   "cell_type": "code",
   "execution_count": 8,
   "metadata": {},
   "outputs": [
    {
     "data": {
      "text/plain": [
       "LinearRegression()"
      ]
     },
     "execution_count": 8,
     "metadata": {},
     "output_type": "execute_result"
    }
   ],
   "source": [
    "#Fitting Linear Regression to the training set\n",
    "from sklearn.linear_model import LinearRegression\n",
    "reg = LinearRegression()\n",
    "reg.fit(X_train, y_train)"
   ]
  },
  {
   "cell_type": "code",
   "execution_count": 9,
   "metadata": {},
   "outputs": [
    {
     "data": {
      "text/plain": [
       "array([[163.3],\n",
       "       [195.4],\n",
       "       [292.9],\n",
       "       [ 11.7],\n",
       "       [220.3],\n",
       "       [ 75.1],\n",
       "       [216.8],\n",
       "       [ 50. ],\n",
       "       [222.4],\n",
       "       [175.1],\n",
       "       [ 31.5],\n",
       "       [ 56.2],\n",
       "       [234.5],\n",
       "       [  5.4],\n",
       "       [139.5],\n",
       "       [170.2],\n",
       "       [  7.3],\n",
       "       [197.6],\n",
       "       [ 75.3],\n",
       "       [237.4],\n",
       "       [229.5],\n",
       "       [ 67.8],\n",
       "       [ 38. ],\n",
       "       [250.9],\n",
       "       [ 69. ],\n",
       "       [ 53.5],\n",
       "       [213.5],\n",
       "       [139.3],\n",
       "       [ 87.2],\n",
       "       [  8.4],\n",
       "       [199.8],\n",
       "       [ 69.2],\n",
       "       [198.9],\n",
       "       [ 16.9],\n",
       "       [280.7],\n",
       "       [238.2],\n",
       "       [ 48.3],\n",
       "       [273.7],\n",
       "       [117.2],\n",
       "       [ 27.5]])"
      ]
     },
     "execution_count": 9,
     "metadata": {},
     "output_type": "execute_result"
    }
   ],
   "source": [
    "X_test"
   ]
  },
  {
   "cell_type": "code",
   "execution_count": 10,
   "metadata": {
    "scrolled": true
   },
   "outputs": [
    {
     "data": {
      "text/plain": [
       "array([[1690],\n",
       "       [2240],\n",
       "       [2140],\n",
       "       [ 730],\n",
       "       [2470],\n",
       "       [1260],\n",
       "       [2230],\n",
       "       [ 840],\n",
       "       [1150],\n",
       "       [1490],\n",
       "       [ 950],\n",
       "       [ 870],\n",
       "       [1190],\n",
       "       [ 530],\n",
       "       [1030],\n",
       "       [1170],\n",
       "       [ 550],\n",
       "       [1660],\n",
       "       [1130],\n",
       "       [1890],\n",
       "       [1970],\n",
       "       [1250],\n",
       "       [1090],\n",
       "       [2220],\n",
       "       [ 930],\n",
       "       [ 810],\n",
       "       [2170],\n",
       "       [1340],\n",
       "       [1060],\n",
       "       [ 570],\n",
       "       [1060],\n",
       "       [1130],\n",
       "       [2370],\n",
       "       [ 870],\n",
       "       [1610],\n",
       "       [2070],\n",
       "       [1160],\n",
       "       [2080],\n",
       "       [1190],\n",
       "       [ 690]])"
      ]
     },
     "execution_count": 10,
     "metadata": {},
     "output_type": "execute_result"
    }
   ],
   "source": [
    "y_test"
   ]
  },
  {
   "cell_type": "code",
   "execution_count": 11,
   "metadata": {},
   "outputs": [
    {
     "data": {
      "text/plain": [
       "array([[1471.79439447],\n",
       "       [1621.15483966],\n",
       "       [2074.81974329],\n",
       "       [ 766.40363149],\n",
       "       [1737.01387659],\n",
       "       [1061.40214319],\n",
       "       [1720.72846979],\n",
       "       [ 944.61251159],\n",
       "       [1746.78512067],\n",
       "       [1526.69948024],\n",
       "       [ 858.53250423],\n",
       "       [ 973.46094648],\n",
       "       [1803.08609845],\n",
       "       [ 737.08989926],\n",
       "       [1361.05362825],\n",
       "       [1503.89991073],\n",
       "       [ 745.93054866],\n",
       "       [1631.39138108],\n",
       "       [1062.33273786],\n",
       "       [1816.57972123],\n",
       "       [1779.8212316 ],\n",
       "       [1027.43543758],\n",
       "       [ 888.77683114],\n",
       "       [1879.39486173],\n",
       "       [1033.01900563],\n",
       "       [ 960.89791838],\n",
       "       [1705.37365767],\n",
       "       [1360.12303358],\n",
       "       [1117.70312097],\n",
       "       [ 751.04881937],\n",
       "       [1641.62792249],\n",
       "       [1033.9496003 ],\n",
       "       [1637.44024646],\n",
       "       [ 790.59909302],\n",
       "       [2018.05346817],\n",
       "       [1820.30209992],\n",
       "       [ 936.70245686],\n",
       "       [1985.48265458],\n",
       "       [1257.29232209],\n",
       "       [ 839.92061075]])"
      ]
     },
     "execution_count": 11,
     "metadata": {},
     "output_type": "execute_result"
    }
   ],
   "source": [
    "reg.predict(X_test)"
   ]
  },
  {
   "cell_type": "code",
   "execution_count": 12,
   "metadata": {},
   "outputs": [
    {
     "data": {
      "image/png": "[encoded data removed]",
      "text/plain": [
       "<Figure size 1152x576 with 1 Axes>"
      ]
     },
     "metadata": {
      "needs_background": "light"
     },
     "output_type": "display_data"
    }
   ],
   "source": [
    "#predicting the Test set result\n",
    "y_pred = reg.predict(X_test)\n",
    "plt.figure(figsize=(16, 8))\n",
    "plt.scatter(X, y, c='black')\n",
    "plt.plot(\n",
    "    X_test,\n",
    "    y_pred,\n",
    "    c='blue',\n",
    "    linewidth=2\n",
    ")\n",
    "plt.xlabel(\"Money spent on TV ads ($)\")\n",
    "plt.ylabel(\"Sales ($)\")\n",
    "plt.title(\"Prediction Points vs Actual Points\")\n",
    "plt.show()"
   ]
  },
  {
   "cell_type": "code",
   "execution_count": 13,
   "metadata": {},
   "outputs": [
    {
     "data": {
      "text/plain": [
       "array([[4.65297337]])"
      ]
     },
     "execution_count": 13,
     "metadata": {},
     "output_type": "execute_result"
    }
   ],
   "source": [
    "#Calculating the Coefficients\n",
    "reg.coef_\n",
    "#y=mx+c"
   ]
  },
  {
   "cell_type": "code",
   "execution_count": 14,
   "metadata": {},
   "outputs": [
    {
     "data": {
      "text/plain": [
       "array([711.96384306])"
      ]
     },
     "execution_count": 14,
     "metadata": {},
     "output_type": "execute_result"
    }
   ],
   "source": [
    "#Calculating the Intercept\n",
    "reg.intercept_"
   ]
  },
  {
   "cell_type": "code",
   "execution_count": 15,
   "metadata": {},
   "outputs": [
    {
     "data": {
      "text/plain": [
       "0.6766954295627077"
      ]
     },
     "execution_count": 15,
     "metadata": {},
     "output_type": "execute_result"
    }
   ],
   "source": [
    "#Calculating the R squared value\n",
    "from sklearn.metrics import r2_score\n",
    "r2_score(y_test, y_pred)"
   ]
  },
  {
   "cell_type": "code",
   "execution_count": 16,
   "metadata": {},
   "outputs": [
    {
     "data": {
      "text/plain": [
       "array([[1875.2071857]])"
      ]
     },
     "execution_count": 16,
     "metadata": {},
     "output_type": "execute_result"
    }
   ],
   "source": [
    "output = reg.predict([[250]])\n",
    "output"
   ]
  },
  {
   "cell_type": "markdown",
   "metadata": {},
   "source": [
    "# Multiple Linear Regression"
   ]
  },
  {
   "cell_type": "code",
   "execution_count": 17,
   "metadata": {},
   "outputs": [],
   "source": [
    "#Initializing the variables\n",
    "X = data.drop(['sales'], axis=1)\n",
    "y = data['sales'].values.reshape(-1,1)"
   ]
  },
  {
   "cell_type": "code",
   "execution_count": 18,
   "metadata": {},
   "outputs": [
    {
     "data": {
      "text/html": [
       "<div>\n",
       "<style scoped>\n",
       "    .dataframe tbody tr th:only-of-type {\n",
       "        vertical-align: middle;\n",
       "    }\n",
       "\n",
       "    .dataframe tbody tr th {\n",
       "        vertical-align: top;\n",
       "    }\n",
       "\n",
       "    .dataframe thead th {\n",
       "        text-align: right;\n",
       "    }\n",
       "</style>\n",
       "<table border=\"1\" class=\"dataframe\">\n",
       "  <thead>\n",
       "    <tr style=\"text-align: right;\">\n",
       "      <th></th>\n",
       "      <th>TV</th>\n",
       "      <th>radio</th>\n",
       "      <th>newspaper</th>\n",
       "    </tr>\n",
       "  </thead>\n",
       "  <tbody>\n",
       "    <tr>\n",
       "      <th>0</th>\n",
       "      <td>230.1</td>\n",
       "      <td>37.8</td>\n",
       "      <td>69.2</td>\n",
       "    </tr>\n",
       "    <tr>\n",
       "      <th>1</th>\n",
       "      <td>44.5</td>\n",
       "      <td>39.3</td>\n",
       "      <td>45.1</td>\n",
       "    </tr>\n",
       "    <tr>\n",
       "      <th>2</th>\n",
       "      <td>17.2</td>\n",
       "      <td>45.9</td>\n",
       "      <td>69.3</td>\n",
       "    </tr>\n",
       "    <tr>\n",
       "      <th>3</th>\n",
       "      <td>151.5</td>\n",
       "      <td>41.3</td>\n",
       "      <td>58.5</td>\n",
       "    </tr>\n",
       "    <tr>\n",
       "      <th>4</th>\n",
       "      <td>180.8</td>\n",
       "      <td>10.8</td>\n",
       "      <td>58.4</td>\n",
       "    </tr>\n",
       "    <tr>\n",
       "      <th>...</th>\n",
       "      <td>...</td>\n",
       "      <td>...</td>\n",
       "      <td>...</td>\n",
       "    </tr>\n",
       "    <tr>\n",
       "      <th>195</th>\n",
       "      <td>38.2</td>\n",
       "      <td>3.7</td>\n",
       "      <td>13.8</td>\n",
       "    </tr>\n",
       "    <tr>\n",
       "      <th>196</th>\n",
       "      <td>94.2</td>\n",
       "      <td>4.9</td>\n",
       "      <td>8.1</td>\n",
       "    </tr>\n",
       "    <tr>\n",
       "      <th>197</th>\n",
       "      <td>177.0</td>\n",
       "      <td>9.3</td>\n",
       "      <td>6.4</td>\n",
       "    </tr>\n",
       "    <tr>\n",
       "      <th>198</th>\n",
       "      <td>283.6</td>\n",
       "      <td>42.0</td>\n",
       "      <td>66.2</td>\n",
       "    </tr>\n",
       "    <tr>\n",
       "      <th>199</th>\n",
       "      <td>232.1</td>\n",
       "      <td>8.6</td>\n",
       "      <td>8.7</td>\n",
       "    </tr>\n",
       "  </tbody>\n",
       "</table>\n",
       "<p>200 rows × 3 columns</p>\n",
       "</div>"
      ],
      "text/plain": [
       "        TV  radio  newspaper\n",
       "0    230.1   37.8       69.2\n",
       "1     44.5   39.3       45.1\n",
       "2     17.2   45.9       69.3\n",
       "3    151.5   41.3       58.5\n",
       "4    180.8   10.8       58.4\n",
       "..     ...    ...        ...\n",
       "195   38.2    3.7       13.8\n",
       "196   94.2    4.9        8.1\n",
       "197  177.0    9.3        6.4\n",
       "198  283.6   42.0       66.2\n",
       "199  232.1    8.6        8.7\n",
       "\n",
       "[200 rows x 3 columns]"
      ]
     },
     "execution_count": 18,
     "metadata": {},
     "output_type": "execute_result"
    }
   ],
   "source": [
    "X"
   ]
  },
  {
   "cell_type": "code",
   "execution_count": 19,
   "metadata": {},
   "outputs": [
    {
     "data": {
      "text/plain": [
       "array([[2210],\n",
       "       [1040],\n",
       "       [ 930],\n",
       "       [1850],\n",
       "       [1290],\n",
       "       [ 720],\n",
       "       [1180],\n",
       "       [1320],\n",
       "       [ 480],\n",
       "       [1060],\n",
       "       [ 860],\n",
       "       [1740],\n",
       "       [ 920],\n",
       "       [ 970],\n",
       "       [1900],\n",
       "       [2240],\n",
       "       [1250],\n",
       "       [2440],\n",
       "       [1130],\n",
       "       [1460],\n",
       "       [1800],\n",
       "       [1250],\n",
       "       [ 560],\n",
       "       [1550],\n",
       "       [ 970],\n",
       "       [1200],\n",
       "       [1500],\n",
       "       [1590],\n",
       "       [1890],\n",
       "       [1050],\n",
       "       [2140],\n",
       "       [1190],\n",
       "       [ 960],\n",
       "       [1740],\n",
       "       [ 950],\n",
       "       [1280],\n",
       "       [2540],\n",
       "       [1470],\n",
       "       [1010],\n",
       "       [2150],\n",
       "       [1660],\n",
       "       [1710],\n",
       "       [2070],\n",
       "       [1290],\n",
       "       [ 850],\n",
       "       [1490],\n",
       "       [1060],\n",
       "       [2320],\n",
       "       [1480],\n",
       "       [ 970],\n",
       "       [1140],\n",
       "       [1070],\n",
       "       [2260],\n",
       "       [2120],\n",
       "       [2020],\n",
       "       [2370],\n",
       "       [ 550],\n",
       "       [1320],\n",
       "       [2380],\n",
       "       [1840],\n",
       "       [ 810],\n",
       "       [2420],\n",
       "       [1570],\n",
       "       [1400],\n",
       "       [1800],\n",
       "       [ 930],\n",
       "       [ 950],\n",
       "       [1340],\n",
       "       [1890],\n",
       "       [2230],\n",
       "       [1830],\n",
       "       [1240],\n",
       "       [ 880],\n",
       "       [1100],\n",
       "       [1700],\n",
       "       [ 870],\n",
       "       [ 690],\n",
       "       [1420],\n",
       "       [ 530],\n",
       "       [1100],\n",
       "       [1180],\n",
       "       [1230],\n",
       "       [1130],\n",
       "       [1360],\n",
       "       [2170],\n",
       "       [1520],\n",
       "       [1200],\n",
       "       [1600],\n",
       "       [1290],\n",
       "       [1670],\n",
       "       [1120],\n",
       "       [ 730],\n",
       "       [1940],\n",
       "       [2220],\n",
       "       [1150],\n",
       "       [1690],\n",
       "       [1170],\n",
       "       [1550],\n",
       "       [2540],\n",
       "       [1720],\n",
       "       [1170],\n",
       "       [2380],\n",
       "       [1480],\n",
       "       [1470],\n",
       "       [2070],\n",
       "       [1920],\n",
       "       [ 720],\n",
       "       [ 870],\n",
       "       [ 530],\n",
       "       [1980],\n",
       "       [1340],\n",
       "       [2180],\n",
       "       [1410],\n",
       "       [1590],\n",
       "       [1460],\n",
       "       [1260],\n",
       "       [1220],\n",
       "       [ 940],\n",
       "       [1590],\n",
       "       [ 660],\n",
       "       [1550],\n",
       "       [ 700],\n",
       "       [1160],\n",
       "       [1520],\n",
       "       [1970],\n",
       "       [1060],\n",
       "       [ 660],\n",
       "       [ 880],\n",
       "       [2470],\n",
       "       [ 970],\n",
       "       [ 160],\n",
       "       [1270],\n",
       "       [ 570],\n",
       "       [1960],\n",
       "       [1080],\n",
       "       [1160],\n",
       "       [ 950],\n",
       "       [2080],\n",
       "       [ 960],\n",
       "       [2070],\n",
       "       [1090],\n",
       "       [1920],\n",
       "       [2010],\n",
       "       [1040],\n",
       "       [1140],\n",
       "       [1030],\n",
       "       [1320],\n",
       "       [2540],\n",
       "       [1090],\n",
       "       [1010],\n",
       "       [1610],\n",
       "       [1160],\n",
       "       [1660],\n",
       "       [1900],\n",
       "       [1560],\n",
       "       [ 320],\n",
       "       [1530],\n",
       "       [1010],\n",
       "       [ 730],\n",
       "       [1290],\n",
       "       [1440],\n",
       "       [1330],\n",
       "       [1490],\n",
       "       [1800],\n",
       "       [1190],\n",
       "       [1190],\n",
       "       [ 800],\n",
       "       [1220],\n",
       "       [1710],\n",
       "       [1500],\n",
       "       [ 840],\n",
       "       [1450],\n",
       "       [ 760],\n",
       "       [1170],\n",
       "       [1150],\n",
       "       [2700],\n",
       "       [2020],\n",
       "       [1170],\n",
       "       [1180],\n",
       "       [1260],\n",
       "       [1050],\n",
       "       [1220],\n",
       "       [ 870],\n",
       "       [2620],\n",
       "       [1760],\n",
       "       [2260],\n",
       "       [1030],\n",
       "       [1730],\n",
       "       [1590],\n",
       "       [ 670],\n",
       "       [1080],\n",
       "       [ 990],\n",
       "       [ 590],\n",
       "       [1960],\n",
       "       [1730],\n",
       "       [ 760],\n",
       "       [ 970],\n",
       "       [1280],\n",
       "       [2550],\n",
       "       [1340]])"
      ]
     },
     "execution_count": 19,
     "metadata": {},
     "output_type": "execute_result"
    }
   ],
   "source": [
    "y"
   ]
  },
  {
   "cell_type": "code",
   "execution_count": 20,
   "metadata": {},
   "outputs": [],
   "source": [
    "#Splitting our dataset to Training and Testing dataset\n",
    "from sklearn.model_selection import train_test_split\n",
    "X_train, X_test, y_train, y_test = train_test_split(X, y, test_size=0.2, random_state=42)"
   ]
  },
  {
   "cell_type": "code",
   "execution_count": 21,
   "metadata": {},
   "outputs": [
    {
     "data": {
      "text/plain": [
       "LinearRegression()"
      ]
     },
     "execution_count": 21,
     "metadata": {},
     "output_type": "execute_result"
    }
   ],
   "source": [
    "#Fitting Linear Regression to the training set\n",
    "from sklearn.linear_model import LinearRegression\n",
    "multiple_reg = LinearRegression()\n",
    "multiple_reg.fit(X_train, y_train)"
   ]
  },
  {
   "cell_type": "code",
   "execution_count": 22,
   "metadata": {},
   "outputs": [],
   "source": [
    "#predicting the Test set result\n",
    "y_pred = multiple_reg.predict(X_test)"
   ]
  },
  {
   "cell_type": "code",
   "execution_count": 23,
   "metadata": {},
   "outputs": [
    {
     "data": {
      "text/plain": [
       "array([[1640.80242032],\n",
       "       [2088.98820871],\n",
       "       [2155.38431791],\n",
       "       [1060.8502562 ],\n",
       "       [2211.23732599],\n",
       "       [1310.5591724 ],\n",
       "       [2105.71919163],\n",
       "       [ 746.10103446],\n",
       "       [1360.63458054],\n",
       "       [1515.50696689],\n",
       "       [ 904.83199241],\n",
       "       [ 665.32831249],\n",
       "       [1434.55448651],\n",
       "       [ 890.34933289],\n",
       "       [ 968.95902804],\n",
       "       [1216.49438591],\n",
       "       [ 873.62839734],\n",
       "       [1626.50725772],\n",
       "       [1027.75958206],\n",
       "       [1883.10910344],\n",
       "       [1956.03665331],\n",
       "       [1325.10346424],\n",
       "       [1233.62069482],\n",
       "       [2130.69513175],\n",
       "       [ 782.74030508],\n",
       "       [ 580.95744781],\n",
       "       [2075.75323145],\n",
       "       [1198.13807742],\n",
       "       [ 918.34957628],\n",
       "       [ 850.66991002],\n",
       "       [1246.64676934],\n",
       "       [1000.33769512],\n",
       "       [2138.76709023],\n",
       "       [1224.96636755],\n",
       "       [1826.66153761],\n",
       "       [2013.76626654],\n",
       "       [1405.51400528],\n",
       "       [2085.41118629],\n",
       "       [1101.74441001],\n",
       "       [ 456.89962222]])"
      ]
     },
     "execution_count": 23,
     "metadata": {},
     "output_type": "execute_result"
    }
   ],
   "source": [
    "y_pred"
   ]
  },
  {
   "cell_type": "code",
   "execution_count": 24,
   "metadata": {},
   "outputs": [
    {
     "data": {
      "text/html": [
       "<div>\n",
       "<style scoped>\n",
       "    .dataframe tbody tr th:only-of-type {\n",
       "        vertical-align: middle;\n",
       "    }\n",
       "\n",
       "    .dataframe tbody tr th {\n",
       "        vertical-align: top;\n",
       "    }\n",
       "\n",
       "    .dataframe thead th {\n",
       "        text-align: right;\n",
       "    }\n",
       "</style>\n",
       "<table border=\"1\" class=\"dataframe\">\n",
       "  <thead>\n",
       "    <tr style=\"text-align: right;\">\n",
       "      <th></th>\n",
       "      <th>TV</th>\n",
       "      <th>radio</th>\n",
       "      <th>newspaper</th>\n",
       "    </tr>\n",
       "  </thead>\n",
       "  <tbody>\n",
       "    <tr>\n",
       "      <th>79</th>\n",
       "      <td>116.0</td>\n",
       "      <td>7.7</td>\n",
       "      <td>23.1</td>\n",
       "    </tr>\n",
       "    <tr>\n",
       "      <th>197</th>\n",
       "      <td>177.0</td>\n",
       "      <td>9.3</td>\n",
       "      <td>6.4</td>\n",
       "    </tr>\n",
       "    <tr>\n",
       "      <th>38</th>\n",
       "      <td>43.1</td>\n",
       "      <td>26.7</td>\n",
       "      <td>35.1</td>\n",
       "    </tr>\n",
       "    <tr>\n",
       "      <th>24</th>\n",
       "      <td>62.3</td>\n",
       "      <td>12.6</td>\n",
       "      <td>18.3</td>\n",
       "    </tr>\n",
       "    <tr>\n",
       "      <th>122</th>\n",
       "      <td>224.0</td>\n",
       "      <td>2.4</td>\n",
       "      <td>15.6</td>\n",
       "    </tr>\n",
       "    <tr>\n",
       "      <th>...</th>\n",
       "      <td>...</td>\n",
       "      <td>...</td>\n",
       "      <td>...</td>\n",
       "    </tr>\n",
       "    <tr>\n",
       "      <th>106</th>\n",
       "      <td>25.0</td>\n",
       "      <td>11.0</td>\n",
       "      <td>29.7</td>\n",
       "    </tr>\n",
       "    <tr>\n",
       "      <th>14</th>\n",
       "      <td>204.1</td>\n",
       "      <td>32.9</td>\n",
       "      <td>46.0</td>\n",
       "    </tr>\n",
       "    <tr>\n",
       "      <th>92</th>\n",
       "      <td>217.7</td>\n",
       "      <td>33.5</td>\n",
       "      <td>59.0</td>\n",
       "    </tr>\n",
       "    <tr>\n",
       "      <th>179</th>\n",
       "      <td>165.6</td>\n",
       "      <td>10.0</td>\n",
       "      <td>17.6</td>\n",
       "    </tr>\n",
       "    <tr>\n",
       "      <th>102</th>\n",
       "      <td>280.2</td>\n",
       "      <td>10.1</td>\n",
       "      <td>21.4</td>\n",
       "    </tr>\n",
       "  </tbody>\n",
       "</table>\n",
       "<p>160 rows × 3 columns</p>\n",
       "</div>"
      ],
      "text/plain": [
       "        TV  radio  newspaper\n",
       "79   116.0    7.7       23.1\n",
       "197  177.0    9.3        6.4\n",
       "38    43.1   26.7       35.1\n",
       "24    62.3   12.6       18.3\n",
       "122  224.0    2.4       15.6\n",
       "..     ...    ...        ...\n",
       "106   25.0   11.0       29.7\n",
       "14   204.1   32.9       46.0\n",
       "92   217.7   33.5       59.0\n",
       "179  165.6   10.0       17.6\n",
       "102  280.2   10.1       21.4\n",
       "\n",
       "[160 rows x 3 columns]"
      ]
     },
     "execution_count": 24,
     "metadata": {},
     "output_type": "execute_result"
    }
   ],
   "source": [
    "y_test\n",
    "X_train"
   ]
  },
  {
   "cell_type": "code",
   "execution_count": 25,
   "metadata": {},
   "outputs": [],
   "source": [
    "#Calculating the Coefficients\n",
    "#multiple_reg.coef_\n",
    "#TV, Radio & Newspaper\n",
    "\n",
    "#pd.DataFrame(multiple_reg.coef_,columns=['TV', 'radio', 'newspaper'])\n",
    "#multiple_reg.coef_[0][]\n",
    "new=[]\n",
    "for i in range(3):\n",
    "    new.append(multiple_reg.coef_[0][i])"
   ]
  },
  {
   "cell_type": "code",
   "execution_count": 26,
   "metadata": {},
   "outputs": [
    {
     "data": {
      "text/plain": [
       "array([[ 4.47295175, 18.91950542,  0.27611143]])"
      ]
     },
     "execution_count": 26,
     "metadata": {},
     "output_type": "execute_result"
    }
   ],
   "source": [
    "multiple_reg.coef_\n"
   ]
  },
  {
   "cell_type": "markdown",
   "metadata": {},
   "source": [
    "#Exercise\n",
    "\n",
    "#Make a new colum of TV + Newspaper and re-execute the Linear Regression model again with new column, make sure you have deleted other 2 columns"
   ]
  },
  {
   "cell_type": "code",
   "execution_count": 27,
   "metadata": {},
   "outputs": [
    {
     "data": {
      "text/plain": [
       "array([297.90673381])"
      ]
     },
     "execution_count": 27,
     "metadata": {},
     "output_type": "execute_result"
    }
   ],
   "source": [
    "#Calculating the Intercept\n",
    "multiple_reg.intercept_"
   ]
  },
  {
   "cell_type": "code",
   "execution_count": 28,
   "metadata": {},
   "outputs": [
    {
     "data": {
      "text/plain": [
       "0.899438024100912"
      ]
     },
     "execution_count": 28,
     "metadata": {},
     "output_type": "execute_result"
    }
   ],
   "source": [
    "#Calculating the R squared value\n",
    "from sklearn.metrics import r2_score\n",
    "r2_score(y_test, y_pred)"
   ]
  },
  {
   "cell_type": "code",
   "execution_count": 29,
   "metadata": {},
   "outputs": [
    {
     "name": "stdout",
     "output_type": "stream",
     "text": [
      "Enter the ammount you will invest on:\n",
      "TV : 100\n",
      "Radio : 1060\n",
      "Newspaper : 4656666666666666666666666666666666\n",
      "you will get Rs 1285758911629974813949229531136000.00 sales by advertising Rs 100.0 on TV, Rs 1060.0 on Radio and Rs 4.656666666666667e+33 on newspaper.\n"
     ]
    },
    {
     "name": "stderr",
     "output_type": "stream",
     "text": [
      "/home/rjoker/.local/lib/python3.9/site-packages/sklearn/base.py:445: UserWarning: X does not have valid feature names, but LinearRegression was fitted with feature names\n",
      "  warnings.warn(\n"
     ]
    }
   ],
   "source": [
    "#Taking the input from the user\n",
    "print(\"Enter the ammount you will invest on:\")\n",
    "tv = float(input(\"TV : \"))\n",
    "radio = float(input(\"Radio : \"))\n",
    "newspaper = float(input(\"Newspaper : \"))\n",
    "\n",
    "#predicting the sales with respect to the inputs\n",
    "output = multiple_reg.predict([[tv,radio,newspaper]])\n",
    "print(\"you will get Rs {:.2f} sales by advertising Rs {} on TV, Rs {} on Radio and Rs {} on newspaper.\"\\\n",
    "      .format(output[0][0] if output else \"not predictable\",tv,radio,newspaper))"
   ]
  },
  {
   "cell_type": "markdown",
   "metadata": {},
   "source": [
    "# Great Job!!"
   ]
  },
  {
   "cell_type": "code",
   "execution_count": 31,
   "metadata": {},
   "outputs": [],
   "source": [
    "import pickle\n",
    "with open('Sales_Predictio_model.pkl', 'wb') as file:\n",
    "    pickle.dump(multiple_reg, file)"
   ]
  }
 ],
 "metadata": {
  "kernelspec": {
   "display_name": "Python 3 (ipykernel)",
   "language": "python",
   "name": "python3"
  },
  "language_info": {
   "codemirror_mode": {
    "name": "ipython",
    "version": 3
   },
   "file_extension": ".py",
   "mimetype": "text/x-python",
   "name": "python",
   "nbconvert_exporter": "python",
   "pygments_lexer": "ipython3",
   "version": "3.9.2"
  }
 },
 "nbformat": 4,
 "nbformat_minor": 4
}
